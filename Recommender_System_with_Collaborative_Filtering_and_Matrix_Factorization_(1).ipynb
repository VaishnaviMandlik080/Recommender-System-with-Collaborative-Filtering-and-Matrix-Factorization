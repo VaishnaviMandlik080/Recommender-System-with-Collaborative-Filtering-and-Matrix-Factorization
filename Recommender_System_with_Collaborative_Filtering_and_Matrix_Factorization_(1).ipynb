{
  "cells": [
    {
      "cell_type": "code",
      "source": [
        "#importing required lirbraries\n",
        "import pandas as pd\n",
        "import numpy as np\n",
        "import matplotlib.pyplot as plt\n",
        "from sklearn.metrics import mean_squared_error"
      ],
      "metadata": {
        "id": "l1gQklpT6b8l"
      },
      "execution_count": 49,
      "outputs": []
    },
    {
      "cell_type": "code",
      "source": [
        "#uploading dataset files\n",
        "books_df = pd.read_csv('Books.csv')\n",
        "users_df = pd.read_csv('Users.csv', encoding='latin-1', on_bad_lines='skip')\n",
        "\n",
        "ratings_df = pd.read_csv('Ratings.csv')"
      ],
      "metadata": {
        "id": "GaeGR6Br6b_u"
      },
      "execution_count": 50,
      "outputs": []
    },
    {
      "cell_type": "code",
      "source": [
        "# preproessing  the rating data\n",
        "#taking only important coloumns\n",
        "ratings_df = ratings_df[ratings_df['User-ID'].notnull() & ratings_df['ISBN'].notnull()]\n",
        "ratings_df = ratings_df[ratings_df['Book-Rating'] > 0]\n",
        "\n",
        "# taking sample upto 5000 records to reduce size for testing\n",
        "ratings_df = ratings_df.sample(n=100, random_state=22)\n"
      ],
      "metadata": {
        "id": "AGtaQ3tr6cCp"
      },
      "execution_count": 51,
      "outputs": []
    },
    {
      "cell_type": "code",
      "source": [
        "# creating  user item matric\n",
        "#creating pivot table in this rows = users columns = books values = ratings\n",
        "user_item_matrix = ratings_df.pivot_table(index='User-ID', columns='ISBN', values='Book-Rating').fillna(0)\n",
        "\n",
        "# coverting into NumPy matrix\n",
        "R = user_item_matrix.values\n",
        "print(\" User-Item Matrix shape:\", R.shape)\n"
      ],
      "metadata": {
        "colab": {
          "base_uri": "https://localhost:8080/"
        },
        "id": "QtVeHdGT6cFg",
        "outputId": "e5683b78-6a3a-48c5-ba24-eed1a185a1cd"
      },
      "execution_count": 52,
      "outputs": [
        {
          "output_type": "stream",
          "name": "stdout",
          "text": [
            " User-Item Matrix shape: (52, 100)\n"
          ]
        }
      ]
    },
    {
      "cell_type": "code",
      "source": [
        "#matrix factorization\n",
        "def initialize_factors(R, K):\n",
        "    num_users, num_items = R.shape\n",
        "    P = np.random.rand(num_users, K)\n",
        "    Q = np.random.rand(num_items, K)\n",
        "    return P, Q\n"
      ],
      "metadata": {
        "id": "ud-2xte157ur"
      },
      "execution_count": 53,
      "outputs": []
    },
    {
      "cell_type": "code",
      "source": [
        "#updating p and q suing gradintt decent\n",
        "def update_factors(R, P, Q, K, alpha, beta):\n",
        "    num_users, num_items = R.shape\n",
        "    for i in range(num_users):\n",
        "        for j in range(num_items):\n",
        "            if R[i][j] > 0:\n",
        "                eij = R[i][j] - np.dot(P[i], Q[j].T)\n",
        "                for k in range(K):\n",
        "                    P[i][k] += alpha * (2 * eij * Q[j][k] - beta * P[i][k])\n",
        "                    Q[j][k] += alpha * (2 * eij * P[i][k] - beta * Q[j][k])\n",
        "    return P, Q\n"
      ],
      "metadata": {
        "id": "qKLklmmb57xr"
      },
      "execution_count": 54,
      "outputs": []
    },
    {
      "cell_type": "code",
      "source": [
        "#calculation of rmse\n",
        "def calculate_rmse(R, P, Q):\n",
        "    num_users, num_items = R.shape\n",
        "    total_error = 0\n",
        "    count = 0\n",
        "    for i in range(num_users):\n",
        "        for j in range(num_items):\n",
        "            if R[i][j] > 0:\n",
        "                total_error += (R[i][j] - np.dot(P[i], Q[j].T)) ** 2\n",
        "                count += 1\n",
        "    return np.sqrt(total_error / count)\n"
      ],
      "metadata": {
        "id": "lmjeyhiA570f"
      },
      "execution_count": 55,
      "outputs": []
    },
    {
      "cell_type": "code",
      "source": [
        "# here is plotting graph\n",
        "def plot_rmse(errors):\n",
        "    plt.plot(range(1, len(errors)+1), errors, marker='o')\n",
        "    plt.title(\"Training RMSE Over Epochs\")\n",
        "    plt.xlabel(\"Epoch\")\n",
        "    plt.ylabel(\"RMSE\")\n",
        "    plt.grid(True)\n",
        "    plt.show()\n",
        "\n"
      ],
      "metadata": {
        "id": "7VIj_SY9573M"
      },
      "execution_count": 56,
      "outputs": []
    },
    {
      "cell_type": "code",
      "source": [
        "#training function\n",
        "def matrix_factorization(R, K=10, steps=50, alpha=0.002, beta=0.02):\n",
        "    P, Q = initialize_factors(R, K)\n",
        "    errors = []\n",
        "\n",
        "    for step in range(steps):\n",
        "        P, Q = update_factors(R, P, Q, K, alpha, beta)\n",
        "        rmse = calculate_rmse(R, P, Q)\n",
        "        errors.append(rmse)\n",
        "        print(f\"Epoch {step+1}/{steps} - RMSE: {rmse:.4f}\")\n",
        "\n",
        "    plot_rmse(errors)\n",
        "    return P, Q.T, errors\n"
      ],
      "metadata": {
        "id": "Lr-rE7cs576d"
      },
      "execution_count": 57,
      "outputs": []
    },
    {
      "cell_type": "code",
      "source": [
        "#traing the model\n",
        "P, Q, errors = matrix_factorization(R, K=5, steps=10, alpha=0.002, beta=0.02)"
      ],
      "metadata": {
        "colab": {
          "base_uri": "https://localhost:8080/",
          "height": 646
        },
        "id": "XnnsjkQ36cK9",
        "outputId": "fc7f29a1-2fb6-46b9-eed9-a8a1bdb630f1"
      },
      "execution_count": 58,
      "outputs": [
        {
          "output_type": "stream",
          "name": "stdout",
          "text": [
            "Epoch 1/10 - RMSE: 6.3752\n",
            "Epoch 2/10 - RMSE: 6.2271\n",
            "Epoch 3/10 - RMSE: 6.0735\n",
            "Epoch 4/10 - RMSE: 5.9145\n",
            "Epoch 5/10 - RMSE: 5.7505\n",
            "Epoch 6/10 - RMSE: 5.5820\n",
            "Epoch 7/10 - RMSE: 5.4098\n",
            "Epoch 8/10 - RMSE: 5.2348\n",
            "Epoch 9/10 - RMSE: 5.0580\n",
            "Epoch 10/10 - RMSE: 4.8806\n"
          ]
        },
        {
          "output_type": "display_data",
          "data": {
            "text/plain": [
              "<Figure size 640x480 with 1 Axes>"
            ],
            "image/png": "[encoded data removed]"
          },
          "metadata": {}
        }
      ]
    },
    {
      "cell_type": "code",
      "source": [
        "#prediction of all ratings\n",
        "predicted_ratings = np.dot(P, Q)\n",
        "\n",
        "# coveeting predicted rating  to dataframe\n",
        "predicted_df = pd.DataFrame(predicted_ratings,\n",
        "                             index=user_item_matrix.index,\n",
        "                            columns=user_item_matrix.columns)\n"
      ],
      "metadata": {
        "id": "isAKIPUo6cN2"
      },
      "execution_count": 59,
      "outputs": []
    },
    {
      "cell_type": "code",
      "source": [
        "#evaluting accuracy using rmse\n",
        "def evaluate_rmse(predicted_df, ratings_df):\n",
        "    actuals = []\n",
        "    preds = []\n",
        "\n",
        "    for row in ratings_df.itertuples():\n",
        "        user = row._1\n",
        "        book = row.ISBN\n",
        "        rating = row._3\n",
        "\n",
        "        try:\n",
        "            pred = predicted_df.loc[user, book]\n",
        "            actuals.append(rating)\n",
        "            preds.append(pred)\n",
        "        except:\n",
        "            continue\n",
        "\n",
        "    rmse = np.sqrt(mean_squared_error(actuals, preds))\n",
        "    return rmse\n",
        "\n",
        "rmse_score = evaluate_rmse(predicted_df, ratings_df)\n",
        "print(f\"\\n Final RMSE: {rmse_score:.4f}\")\n"
      ],
      "metadata": {
        "colab": {
          "base_uri": "https://localhost:8080/"
        },
        "id": "l4jcmto-6cQ4",
        "outputId": "b2337abc-bb0d-42e7-a00b-b148d3320c00"
      },
      "execution_count": 60,
      "outputs": [
        {
          "output_type": "stream",
          "name": "stdout",
          "text": [
            "\n",
            " Final RMSE: 4.8806\n"
          ]
        }
      ]
    },
    {
      "cell_type": "code",
      "source": [
        "#recommending top books to user\n",
        "def recommend_books(predicted_df, ratings_df, user_id, num_recommendations=5):\n",
        "    rated_books = ratings_df[ratings_df['User-ID'] == user_id]['ISBN'].tolist()\n",
        "    user_predictions = predicted_df.loc[user_id]\n",
        "    user_recommendations = user_predictions.drop(labels=rated_books, errors='ignore')\n",
        "    top_books = user_recommendations.sort_values(ascending=False).head(num_recommendations)\n",
        "    return top_books"
      ],
      "metadata": {
        "id": "rvbp-psb6cTn"
      },
      "execution_count": 61,
      "outputs": []
    },
    {
      "cell_type": "code",
      "source": [
        "print(recommended_output.columns)\n",
        "# for checking coloum name"
      ],
      "metadata": {
        "colab": {
          "base_uri": "https://localhost:8080/"
        },
        "id": "6DYE5KyT6cWa",
        "outputId": "02b03d91-1f64-4e74-d2e5-edb6e1583dfb"
      },
      "execution_count": 62,
      "outputs": [
        {
          "output_type": "stream",
          "name": "stdout",
          "text": [
            "Index(['Book-ID', 'Predicted Rating', 'User-ID', 'ISBN', 'Book-Rating'], dtype='object')\n"
          ]
        }
      ]
    },
    {
      "cell_type": "code",
      "source": [
        "#taking sample user\n",
        "sample_user = predicted_df.index[0]\n",
        "print(\"Sample user selected:\", sample_user)\n"
      ],
      "metadata": {
        "id": "zqFKoKDI6cch",
        "colab": {
          "base_uri": "https://localhost:8080/"
        },
        "outputId": "5443df48-c52c-4905-8376-aa8eb992b039"
      },
      "execution_count": 63,
      "outputs": [
        {
          "output_type": "stream",
          "name": "stdout",
          "text": [
            "Sample user selected: 276729\n"
          ]
        }
      ]
    },
    {
      "cell_type": "code",
      "source": [
        "#recommend tope books\n",
        "\n",
        "top_books = recommend_books(predicted_df, ratings_df, user_id=sample_user, num_recommendations=5)\n",
        "print(\"Top recommended ISBNs:\\n\", top_books)\n"
      ],
      "metadata": {
        "id": "NYUbLMPj6cfW",
        "colab": {
          "base_uri": "https://localhost:8080/"
        },
        "outputId": "e8d3e16c-0653-4ef6-d6f8-5be35f36b99c"
      },
      "execution_count": 64,
      "outputs": [
        {
          "output_type": "stream",
          "name": "stdout",
          "text": [
            "Top recommended ISBNs:\n",
            " ISBN\n",
            "0553285920    3.688928\n",
            "3551551685    3.463662\n",
            "0618045996    3.303230\n",
            "2266102621    3.279951\n",
            "3442441080    3.253407\n",
            "Name: 276729, dtype: float64\n"
          ]
        }
      ]
    },
    {
      "cell_type": "code",
      "source": [
        "   #Preparing the DataFrame\n",
        "top_books_df = top_books.reset_index().rename(columns={top_books.name: 'Predicted Rating', 'ISBN': 'Book-ID'})\n",
        "print(top_books_df)\n"
      ],
      "metadata": {
        "id": "QRWKZVVp6cib",
        "colab": {
          "base_uri": "https://localhost:8080/"
        },
        "outputId": "94a254f4-f9c2-4ff7-ec2c-131324f6a7c9"
      },
      "execution_count": 65,
      "outputs": [
        {
          "output_type": "stream",
          "name": "stdout",
          "text": [
            "      Book-ID  Predicted Rating\n",
            "0  0553285920          3.688928\n",
            "1  3551551685          3.463662\n",
            "2  0618045996          3.303230\n",
            "3  2266102621          3.279951\n",
            "4  3442441080          3.253407\n"
          ]
        }
      ]
    },
    {
      "cell_type": "code",
      "source": [
        "#  Merge  books_df to find book details\n",
        "recommended_output = pd.merge(top_books_df, books_df, left_on='Book-ID', right_on='ISBN', how='left')\n"
      ],
      "metadata": {
        "id": "Et1pHc4R6cll"
      },
      "execution_count": 66,
      "outputs": []
    },
    {
      "cell_type": "code",
      "source": [
        "# finding book title column\n",
        "print(\"Available columns after merge:\", recommended_output.columns.tolist())\n",
        "\n",
        "title_column = None\n",
        "for col in recommended_output.columns:\n",
        "    if 'title' in col.lower():\n",
        "        title_column = col\n",
        "        break\n",
        "\n",
        "if title_column:\n",
        "    recommended_output = recommended_output[['Book-ID', title_column, 'Predicted Rating']]\n",
        "    recommended_output.columns = ['Book ID', 'Book Title', 'Predicted Rating']\n",
        "else:\n",
        "    print(\" Book title column not found in merged data.\")\n"
      ],
      "metadata": {
        "colab": {
          "base_uri": "https://localhost:8080/"
        },
        "id": "VZushQ1U79kl",
        "outputId": "f0c2d374-1acf-43e3-8543-76c35ab75c21"
      },
      "execution_count": 67,
      "outputs": [
        {
          "output_type": "stream",
          "name": "stdout",
          "text": [
            "Available columns after merge: ['Book-ID', 'Predicted Rating', 'User-ID', 'ISBN', 'Book-Rating']\n",
            " Book title column not found in merged data.\n"
          ]
        }
      ]
    },
    {
      "cell_type": "code",
      "source": [
        "# saving final output\n",
        "\n",
        "\n",
        "# showing the output\n",
        "print(\"\\n Top Book Recommendations:\\n\")\n",
        "print(recommended_output)\n",
        "\n",
        "# saving to CSV file\n",
        "filename = f\"Recommended_Books_User_{sample_user}.csv\"\n",
        "recommended_output.to_csv(filename, index=False)\n",
        "\n",
        "print(f\"\\n File saved as: {filename}\")\n"
      ],
      "metadata": {
        "colab": {
          "base_uri": "https://localhost:8080/"
        },
        "id": "mscLe8lG79nU",
        "outputId": "9f6266ba-61ea-431a-b16e-ee4bc25c5d27"
      },
      "execution_count": 71,
      "outputs": [
        {
          "output_type": "stream",
          "name": "stdout",
          "text": [
            "\n",
            " Top Book Recommendations:\n",
            "\n",
            "      Book-ID  Predicted Rating  User-ID        ISBN  Book-Rating\n",
            "0  0553285920          3.688928   277170  0553285920            9\n",
            "1  3551551685          3.463662   276847  3551551685           10\n",
            "2  0618045996          3.303230   276998  0618045996            8\n",
            "3  2266102621          3.279951   276929  2266102621           10\n",
            "4  3442441080          3.253407   276847  3442441080           10\n",
            "\n",
            " File saved as: Recommended_Books_User_276729.csv\n"
          ]
        }
      ]
    },
    {
      "cell_type": "code",
      "source": [],
      "metadata": {
        "id": "83zRHJR879qF"
      },
      "execution_count": null,
      "outputs": []
    },
    {
      "cell_type": "code",
      "source": [],
      "metadata": {
        "id": "FfFEOQ0L79tx"
      },
      "execution_count": null,
      "outputs": []
    }
  ],
  "metadata": {
    "colab": {
      "provenance": []
    },
    "kernelspec": {
      "display_name": "Python 3",
      "name": "python3"
    },
    "language_info": {
      "name": "python"
    }
  },
  "nbformat": 4,
  "nbformat_minor": 0
}